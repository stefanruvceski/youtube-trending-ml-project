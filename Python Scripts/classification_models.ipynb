{
 "cells": [
  {
   "cell_type": "code",
   "execution_count": 1,
   "metadata": {},
   "outputs": [],
   "source": [
    "import pandas as pd\n",
    "import numpy as np\n",
    "import matplotlib.pyplot as plt\n",
    "import seaborn as sns\n",
    "%matplotlib inline\n",
    "from sklearn.preprocessing import StandardScaler, MinMaxScaler, OneHotEncoder\n",
    "from sklearn.model_selection import train_test_split, GridSearchCV, RandomizedSearchCV, StratifiedKFold\n",
    "from sklearn.ensemble import RandomForestClassifier\n",
    "from sklearn.svm import SVC\n",
    "from sklearn.metrics import confusion_matrix, classification_report, accuracy_score\n",
    "from xgboost import XGBClassifier\n",
    "from datetime import datetime"
   ]
  },
  {
   "cell_type": "markdown",
   "metadata": {},
   "source": [
    "# Data Loading"
   ]
  },
  {
   "cell_type": "code",
   "execution_count": 2,
   "metadata": {},
   "outputs": [],
   "source": [
    "videos_df = pd.read_pickle('US_trending.pkl')\n",
    "\n",
    "# filtriranje datuma do 1.4.2020. (korona)\n",
    "videos_df = videos_df[videos_df['trending_date'] < datetime(2020, 4, 1)]"
   ]
  },
  {
   "cell_type": "code",
   "execution_count": 3,
   "metadata": {},
   "outputs": [
    {
     "data": {
      "text/html": [
       "<div>\n",
       "<style scoped>\n",
       "    .dataframe tbody tr th:only-of-type {\n",
       "        vertical-align: middle;\n",
       "    }\n",
       "\n",
       "    .dataframe tbody tr th {\n",
       "        vertical-align: top;\n",
       "    }\n",
       "\n",
       "    .dataframe thead th {\n",
       "        text-align: right;\n",
       "    }\n",
       "</style>\n",
       "<table border=\"1\" class=\"dataframe\">\n",
       "  <thead>\n",
       "    <tr style=\"text-align: right;\">\n",
       "      <th></th>\n",
       "      <th>video_id</th>\n",
       "      <th>title</th>\n",
       "      <th>published_at</th>\n",
       "      <th>channel_id</th>\n",
       "      <th>channel_title</th>\n",
       "      <th>category_id</th>\n",
       "      <th>trending_date</th>\n",
       "      <th>tags</th>\n",
       "      <th>view_count</th>\n",
       "      <th>likes</th>\n",
       "      <th>...</th>\n",
       "      <th>days_in_trending</th>\n",
       "      <th>category_name</th>\n",
       "      <th>publish_to_trend</th>\n",
       "      <th>publishing_hour</th>\n",
       "      <th>publishing_day</th>\n",
       "      <th>disc_likes</th>\n",
       "      <th>positive_sentiment</th>\n",
       "      <th>negative_sentiment</th>\n",
       "      <th>neutral_sentiment</th>\n",
       "      <th>analyzed_comments</th>\n",
       "    </tr>\n",
       "  </thead>\n",
       "  <tbody>\n",
       "    <tr>\n",
       "      <td>0</td>\n",
       "      <td>vPx6M7eTYbc</td>\n",
       "      <td>Spill Your Guts: Harry Styles &amp; Kendall Jenner</td>\n",
       "      <td>2019-12-11 07:08:34</td>\n",
       "      <td>UCJ0uqCI0Vqr2Rrt1HseGirg</td>\n",
       "      <td>The Late Late Show with James Corden</td>\n",
       "      <td>24</td>\n",
       "      <td>2019-12-12</td>\n",
       "      <td>The Late Late Show|Late Late Show|James Corden...</td>\n",
       "      <td>11636632</td>\n",
       "      <td>571835</td>\n",
       "      <td>...</td>\n",
       "      <td>1</td>\n",
       "      <td>Entertainment</td>\n",
       "      <td>1</td>\n",
       "      <td>7</td>\n",
       "      <td>Wednesday</td>\n",
       "      <td>3.0</td>\n",
       "      <td>0.468750</td>\n",
       "      <td>0.131250</td>\n",
       "      <td>0.400000</td>\n",
       "      <td>160.0</td>\n",
       "    </tr>\n",
       "    <tr>\n",
       "      <td>1</td>\n",
       "      <td>sg8WaeeFyNY</td>\n",
       "      <td>WE GOT UNEXPECTED NEWS..</td>\n",
       "      <td>2019-12-12 05:25:42</td>\n",
       "      <td>UCDSJCBYqL7VQrlXfhr1RtwA</td>\n",
       "      <td>Les Do Makeup</td>\n",
       "      <td>26</td>\n",
       "      <td>2019-12-12</td>\n",
       "      <td>[none]</td>\n",
       "      <td>423215</td>\n",
       "      <td>52780</td>\n",
       "      <td>...</td>\n",
       "      <td>7</td>\n",
       "      <td>How-to &amp; Style</td>\n",
       "      <td>0</td>\n",
       "      <td>5</td>\n",
       "      <td>Thursday</td>\n",
       "      <td>3.0</td>\n",
       "      <td>0.750000</td>\n",
       "      <td>0.075000</td>\n",
       "      <td>0.175000</td>\n",
       "      <td>40.0</td>\n",
       "    </tr>\n",
       "    <tr>\n",
       "      <td>2</td>\n",
       "      <td>q1PR05q8l2g</td>\n",
       "      <td>Last To Miss Layup Wins $10,000</td>\n",
       "      <td>2019-12-11 23:00:53</td>\n",
       "      <td>UCQIUhhcmXsu6cN6n3y9-Pww</td>\n",
       "      <td>Jesser</td>\n",
       "      <td>17</td>\n",
       "      <td>2019-12-12</td>\n",
       "      <td>last to leave|nba basketball|nba basketball hi...</td>\n",
       "      <td>463685</td>\n",
       "      <td>20178</td>\n",
       "      <td>...</td>\n",
       "      <td>7</td>\n",
       "      <td>Sport</td>\n",
       "      <td>1</td>\n",
       "      <td>23</td>\n",
       "      <td>Wednesday</td>\n",
       "      <td>2.0</td>\n",
       "      <td>0.318182</td>\n",
       "      <td>0.181818</td>\n",
       "      <td>0.500000</td>\n",
       "      <td>88.0</td>\n",
       "    </tr>\n",
       "    <tr>\n",
       "      <td>3</td>\n",
       "      <td>t6Z6RIXq0L0</td>\n",
       "      <td>LAKERS at MAGIC | FULL GAME HIGHLIGHTS | Decem...</td>\n",
       "      <td>2019-12-12 02:35:33</td>\n",
       "      <td>UCWJ2lWNubArHWmf3FIHbfcQ</td>\n",
       "      <td>NBA</td>\n",
       "      <td>17</td>\n",
       "      <td>2019-12-12</td>\n",
       "      <td>sp:ty=high|sp:dt=2019-12-12T00:00:00Z|sp:st=ba...</td>\n",
       "      <td>659579</td>\n",
       "      <td>4605</td>\n",
       "      <td>...</td>\n",
       "      <td>2</td>\n",
       "      <td>Sport</td>\n",
       "      <td>0</td>\n",
       "      <td>2</td>\n",
       "      <td>Thursday</td>\n",
       "      <td>1.0</td>\n",
       "      <td>0.462069</td>\n",
       "      <td>0.193103</td>\n",
       "      <td>0.344828</td>\n",
       "      <td>145.0</td>\n",
       "    </tr>\n",
       "    <tr>\n",
       "      <td>4</td>\n",
       "      <td>TGDpRB4ovvA</td>\n",
       "      <td>TIPPING DRIVE-THRU WORKERS $100 FOR THE HOLIDA...</td>\n",
       "      <td>2019-12-12 02:38:37</td>\n",
       "      <td>UCtj45MepAoKxZoyR_Mnt86Q</td>\n",
       "      <td>Royal Family</td>\n",
       "      <td>24</td>\n",
       "      <td>2019-12-12</td>\n",
       "      <td>queen Naija|Medicine|Queen|Spicy|Royalty Squad...</td>\n",
       "      <td>175558</td>\n",
       "      <td>18400</td>\n",
       "      <td>...</td>\n",
       "      <td>6</td>\n",
       "      <td>Entertainment</td>\n",
       "      <td>0</td>\n",
       "      <td>2</td>\n",
       "      <td>Thursday</td>\n",
       "      <td>2.0</td>\n",
       "      <td>0.631250</td>\n",
       "      <td>0.131250</td>\n",
       "      <td>0.237500</td>\n",
       "      <td>160.0</td>\n",
       "    </tr>\n",
       "  </tbody>\n",
       "</table>\n",
       "<p>5 rows × 26 columns</p>\n",
       "</div>"
      ],
      "text/plain": [
       "      video_id                                              title  \\\n",
       "0  vPx6M7eTYbc     Spill Your Guts: Harry Styles & Kendall Jenner   \n",
       "1  sg8WaeeFyNY                           WE GOT UNEXPECTED NEWS..   \n",
       "2  q1PR05q8l2g                    Last To Miss Layup Wins $10,000   \n",
       "3  t6Z6RIXq0L0  LAKERS at MAGIC | FULL GAME HIGHLIGHTS | Decem...   \n",
       "4  TGDpRB4ovvA  TIPPING DRIVE-THRU WORKERS $100 FOR THE HOLIDA...   \n",
       "\n",
       "         published_at                channel_id  \\\n",
       "0 2019-12-11 07:08:34  UCJ0uqCI0Vqr2Rrt1HseGirg   \n",
       "1 2019-12-12 05:25:42  UCDSJCBYqL7VQrlXfhr1RtwA   \n",
       "2 2019-12-11 23:00:53  UCQIUhhcmXsu6cN6n3y9-Pww   \n",
       "3 2019-12-12 02:35:33  UCWJ2lWNubArHWmf3FIHbfcQ   \n",
       "4 2019-12-12 02:38:37  UCtj45MepAoKxZoyR_Mnt86Q   \n",
       "\n",
       "                          channel_title  category_id trending_date  \\\n",
       "0  The Late Late Show with James Corden           24    2019-12-12   \n",
       "1                         Les Do Makeup           26    2019-12-12   \n",
       "2                                Jesser           17    2019-12-12   \n",
       "3                                   NBA           17    2019-12-12   \n",
       "4                          Royal Family           24    2019-12-12   \n",
       "\n",
       "                                                tags  view_count   likes  ...  \\\n",
       "0  The Late Late Show|Late Late Show|James Corden...    11636632  571835  ...   \n",
       "1                                             [none]      423215   52780  ...   \n",
       "2  last to leave|nba basketball|nba basketball hi...      463685   20178  ...   \n",
       "3  sp:ty=high|sp:dt=2019-12-12T00:00:00Z|sp:st=ba...      659579    4605  ...   \n",
       "4  queen Naija|Medicine|Queen|Spicy|Royalty Squad...      175558   18400  ...   \n",
       "\n",
       "   days_in_trending   category_name publish_to_trend  publishing_hour  \\\n",
       "0                 1   Entertainment                1                7   \n",
       "1                 7  How-to & Style                0                5   \n",
       "2                 7           Sport                1               23   \n",
       "3                 2           Sport                0                2   \n",
       "4                 6   Entertainment                0                2   \n",
       "\n",
       "   publishing_day disc_likes  positive_sentiment negative_sentiment  \\\n",
       "0       Wednesday        3.0            0.468750           0.131250   \n",
       "1        Thursday        3.0            0.750000           0.075000   \n",
       "2       Wednesday        2.0            0.318182           0.181818   \n",
       "3        Thursday        1.0            0.462069           0.193103   \n",
       "4        Thursday        2.0            0.631250           0.131250   \n",
       "\n",
       "   neutral_sentiment  analyzed_comments  \n",
       "0           0.400000              160.0  \n",
       "1           0.175000               40.0  \n",
       "2           0.500000               88.0  \n",
       "3           0.344828              145.0  \n",
       "4           0.237500              160.0  \n",
       "\n",
       "[5 rows x 26 columns]"
      ]
     },
     "execution_count": 3,
     "metadata": {},
     "output_type": "execute_result"
    }
   ],
   "source": [
    "videos_df.head()"
   ]
  },
  {
   "cell_type": "markdown",
   "metadata": {},
   "source": [
    "## Dealing with missing values"
   ]
  },
  {
   "cell_type": "code",
   "execution_count": 4,
   "metadata": {},
   "outputs": [
    {
     "data": {
      "text/plain": [
       "video_id               0\n",
       "title                  0\n",
       "published_at           0\n",
       "channel_id             0\n",
       "channel_title          0\n",
       "category_id            0\n",
       "trending_date          0\n",
       "tags                   0\n",
       "view_count             0\n",
       "likes                  0\n",
       "dislikes               0\n",
       "comment_count          0\n",
       "thumbnail_link         0\n",
       "comments_disabled      0\n",
       "ratings_disabled       0\n",
       "description           20\n",
       "days_in_trending       0\n",
       "category_name          0\n",
       "publish_to_trend       0\n",
       "publishing_hour        0\n",
       "publishing_day         0\n",
       "disc_likes             0\n",
       "positive_sentiment     0\n",
       "negative_sentiment     0\n",
       "neutral_sentiment      0\n",
       "analyzed_comments      0\n",
       "dtype: int64"
      ]
     },
     "execution_count": 4,
     "metadata": {},
     "output_type": "execute_result"
    }
   ],
   "source": [
    "# ovde mozda razmisliti o necemu boljem (srednja vrednost po kategoriji i slicno)\n",
    "videos_df['positive_sentiment'] = videos_df['positive_sentiment'].fillna(videos_df['positive_sentiment'].mean())\n",
    "videos_df['negative_sentiment'] = videos_df['negative_sentiment'].fillna(videos_df['negative_sentiment'].mean())\n",
    "videos_df['neutral_sentiment'] = videos_df['neutral_sentiment'].fillna(videos_df['neutral_sentiment'].mean())\n",
    "videos_df.isna().sum()"
   ]
  },
  {
   "cell_type": "markdown",
   "metadata": {},
   "source": [
    "### Scale numerical features"
   ]
  },
  {
   "cell_type": "code",
   "execution_count": 5,
   "metadata": {},
   "outputs": [],
   "source": [
    "numerical_features = ['view_count', 'dislikes', 'comment_count', 'positive_sentiment', 'negative_sentiment']\n",
    "scaler = StandardScaler()\n",
    "videos_df[numerical_features] = scaler.fit_transform(videos_df[numerical_features])"
   ]
  },
  {
   "cell_type": "markdown",
   "metadata": {},
   "source": [
    "### X and y arrays"
   ]
  },
  {
   "cell_type": "code",
   "execution_count": 6,
   "metadata": {},
   "outputs": [],
   "source": [
    "X = videos_df[['view_count', 'dislikes', 'comment_count', 'positive_sentiment', 'negative_sentiment', 'category_id']]\n",
    "y = videos_df['disc_likes']"
   ]
  },
  {
   "cell_type": "markdown",
   "metadata": {},
   "source": [
    "### One Hot Encoding for category feature"
   ]
  },
  {
   "cell_type": "code",
   "execution_count": 7,
   "metadata": {},
   "outputs": [
    {
     "data": {
      "text/html": [
       "<div>\n",
       "<style scoped>\n",
       "    .dataframe tbody tr th:only-of-type {\n",
       "        vertical-align: middle;\n",
       "    }\n",
       "\n",
       "    .dataframe tbody tr th {\n",
       "        vertical-align: top;\n",
       "    }\n",
       "\n",
       "    .dataframe thead th {\n",
       "        text-align: right;\n",
       "    }\n",
       "</style>\n",
       "<table border=\"1\" class=\"dataframe\">\n",
       "  <thead>\n",
       "    <tr style=\"text-align: right;\">\n",
       "      <th></th>\n",
       "      <th>view_count</th>\n",
       "      <th>dislikes</th>\n",
       "      <th>comment_count</th>\n",
       "      <th>positive_sentiment</th>\n",
       "      <th>negative_sentiment</th>\n",
       "      <th>category_id</th>\n",
       "      <th>Comedy</th>\n",
       "      <th>Education</th>\n",
       "      <th>Entertainment</th>\n",
       "      <th>Film &amp; Animation</th>\n",
       "      <th>Gaming</th>\n",
       "      <th>How-to &amp; Style</th>\n",
       "      <th>Music</th>\n",
       "      <th>News &amp; Politics</th>\n",
       "      <th>Non-profits &amp; Activism</th>\n",
       "      <th>People &amp; Blogs</th>\n",
       "      <th>Pets &amp; Animals</th>\n",
       "      <th>Science &amp; Technology</th>\n",
       "      <th>Sport</th>\n",
       "      <th>Travel &amp; Events</th>\n",
       "    </tr>\n",
       "  </thead>\n",
       "  <tbody>\n",
       "    <tr>\n",
       "      <td>0</td>\n",
       "      <td>4.398527</td>\n",
       "      <td>0.041458</td>\n",
       "      <td>0.550593</td>\n",
       "      <td>0.398854</td>\n",
       "      <td>-0.833451</td>\n",
       "      <td>24</td>\n",
       "      <td>0</td>\n",
       "      <td>0</td>\n",
       "      <td>1</td>\n",
       "      <td>0</td>\n",
       "      <td>0</td>\n",
       "      <td>0</td>\n",
       "      <td>0</td>\n",
       "      <td>0</td>\n",
       "      <td>0</td>\n",
       "      <td>0</td>\n",
       "      <td>0</td>\n",
       "      <td>0</td>\n",
       "      <td>0</td>\n",
       "      <td>0</td>\n",
       "    </tr>\n",
       "    <tr>\n",
       "      <td>1</td>\n",
       "      <td>-0.381521</td>\n",
       "      <td>-0.024048</td>\n",
       "      <td>0.262271</td>\n",
       "      <td>2.605829</td>\n",
       "      <td>-1.375825</td>\n",
       "      <td>26</td>\n",
       "      <td>0</td>\n",
       "      <td>0</td>\n",
       "      <td>0</td>\n",
       "      <td>0</td>\n",
       "      <td>0</td>\n",
       "      <td>1</td>\n",
       "      <td>0</td>\n",
       "      <td>0</td>\n",
       "      <td>0</td>\n",
       "      <td>0</td>\n",
       "      <td>0</td>\n",
       "      <td>0</td>\n",
       "      <td>0</td>\n",
       "      <td>0</td>\n",
       "    </tr>\n",
       "    <tr>\n",
       "      <td>2</td>\n",
       "      <td>-0.364269</td>\n",
       "      <td>-0.025685</td>\n",
       "      <td>-0.244681</td>\n",
       "      <td>-0.782658</td>\n",
       "      <td>-0.345862</td>\n",
       "      <td>17</td>\n",
       "      <td>0</td>\n",
       "      <td>0</td>\n",
       "      <td>0</td>\n",
       "      <td>0</td>\n",
       "      <td>0</td>\n",
       "      <td>0</td>\n",
       "      <td>0</td>\n",
       "      <td>0</td>\n",
       "      <td>0</td>\n",
       "      <td>0</td>\n",
       "      <td>0</td>\n",
       "      <td>0</td>\n",
       "      <td>1</td>\n",
       "      <td>0</td>\n",
       "    </tr>\n",
       "    <tr>\n",
       "      <td>3</td>\n",
       "      <td>-0.280764</td>\n",
       "      <td>-0.028293</td>\n",
       "      <td>-0.255611</td>\n",
       "      <td>0.346428</td>\n",
       "      <td>-0.237048</td>\n",
       "      <td>17</td>\n",
       "      <td>0</td>\n",
       "      <td>0</td>\n",
       "      <td>0</td>\n",
       "      <td>0</td>\n",
       "      <td>0</td>\n",
       "      <td>0</td>\n",
       "      <td>0</td>\n",
       "      <td>0</td>\n",
       "      <td>0</td>\n",
       "      <td>0</td>\n",
       "      <td>0</td>\n",
       "      <td>0</td>\n",
       "      <td>1</td>\n",
       "      <td>0</td>\n",
       "    </tr>\n",
       "    <tr>\n",
       "      <td>4</td>\n",
       "      <td>-0.487092</td>\n",
       "      <td>-0.029379</td>\n",
       "      <td>-0.204122</td>\n",
       "      <td>1.673995</td>\n",
       "      <td>-0.833451</td>\n",
       "      <td>24</td>\n",
       "      <td>0</td>\n",
       "      <td>0</td>\n",
       "      <td>1</td>\n",
       "      <td>0</td>\n",
       "      <td>0</td>\n",
       "      <td>0</td>\n",
       "      <td>0</td>\n",
       "      <td>0</td>\n",
       "      <td>0</td>\n",
       "      <td>0</td>\n",
       "      <td>0</td>\n",
       "      <td>0</td>\n",
       "      <td>0</td>\n",
       "      <td>0</td>\n",
       "    </tr>\n",
       "  </tbody>\n",
       "</table>\n",
       "</div>"
      ],
      "text/plain": [
       "   view_count  dislikes  comment_count  positive_sentiment  \\\n",
       "0    4.398527  0.041458       0.550593            0.398854   \n",
       "1   -0.381521 -0.024048       0.262271            2.605829   \n",
       "2   -0.364269 -0.025685      -0.244681           -0.782658   \n",
       "3   -0.280764 -0.028293      -0.255611            0.346428   \n",
       "4   -0.487092 -0.029379      -0.204122            1.673995   \n",
       "\n",
       "   negative_sentiment  category_id  Comedy  Education  Entertainment  \\\n",
       "0           -0.833451           24       0          0              1   \n",
       "1           -1.375825           26       0          0              0   \n",
       "2           -0.345862           17       0          0              0   \n",
       "3           -0.237048           17       0          0              0   \n",
       "4           -0.833451           24       0          0              1   \n",
       "\n",
       "   Film & Animation  Gaming  How-to & Style  Music  News & Politics  \\\n",
       "0                 0       0               0      0                0   \n",
       "1                 0       0               1      0                0   \n",
       "2                 0       0               0      0                0   \n",
       "3                 0       0               0      0                0   \n",
       "4                 0       0               0      0                0   \n",
       "\n",
       "   Non-profits & Activism  People & Blogs  Pets & Animals  \\\n",
       "0                       0               0               0   \n",
       "1                       0               0               0   \n",
       "2                       0               0               0   \n",
       "3                       0               0               0   \n",
       "4                       0               0               0   \n",
       "\n",
       "   Science & Technology  Sport  Travel & Events  \n",
       "0                     0      0                0  \n",
       "1                     0      0                0  \n",
       "2                     0      1                0  \n",
       "3                     0      1                0  \n",
       "4                     0      0                0  "
      ]
     },
     "execution_count": 7,
     "metadata": {},
     "output_type": "execute_result"
    }
   ],
   "source": [
    "#onehotencoder = OneHotEncoder(categorical_features = [5], drop='first') \n",
    "#X = onehotencoder.fit_transform(X).toarray() \n",
    "#X.size\n",
    "\n",
    "category_dummies = pd.get_dummies(videos_df['category_name'], drop_first=True)\n",
    "X = pd.concat([X, category_dummies], axis=1)\n",
    "X.head()"
   ]
  },
  {
   "cell_type": "markdown",
   "metadata": {},
   "source": [
    "### Split data into training and test sets"
   ]
  },
  {
   "cell_type": "code",
   "execution_count": 8,
   "metadata": {},
   "outputs": [],
   "source": [
    "X_train, X_test, y_train, y_test = train_test_split(X, y, test_size=0.2, random_state=33)"
   ]
  },
  {
   "cell_type": "markdown",
   "metadata": {},
   "source": [
    "# Random Forest Classification"
   ]
  },
  {
   "cell_type": "code",
   "execution_count": 9,
   "metadata": {},
   "outputs": [],
   "source": [
    "random_forest = RandomForestClassifier()"
   ]
  },
  {
   "cell_type": "code",
   "execution_count": 10,
   "metadata": {},
   "outputs": [
    {
     "name": "stdout",
     "output_type": "stream",
     "text": [
      "Optimizing parameters of random forest classification...\n",
      "start at: 20:25:24.120893\n",
      "stop at: 20:56:14.461801\n",
      "---------------------------------\n",
      "0.807997557997558\n",
      "RandomForestClassifier(bootstrap=True, class_weight=None, criterion='entropy',\n",
      "                       max_depth=30, max_features='auto', max_leaf_nodes=None,\n",
      "                       min_impurity_decrease=0.0, min_impurity_split=None,\n",
      "                       min_samples_leaf=1, min_samples_split=2,\n",
      "                       min_weight_fraction_leaf=0.0, n_estimators=500,\n",
      "                       n_jobs=None, oob_score=False, random_state=None,\n",
      "                       verbose=0, warm_start=False)\n"
     ]
    }
   ],
   "source": [
    "print('Optimizing parameters of random forest classification...')\n",
    "print('start at: {}'.format(datetime.now().time()))\n",
    "\n",
    "parameters = {'n_estimators': [200, 500],\n",
    "              'max_features': ['auto', 'sqrt', 'log2'],\n",
    "              'max_depth' : [5, 8, 10, 15, 20, 30],\n",
    "              'criterion' :['gini', 'entropy']}\n",
    "\n",
    "rand_forest_classifier = GridSearchCV(estimator=random_forest, param_grid=parameters, cv=10)\n",
    "rand_forest_classifier.fit(X_train, y_train)\n",
    "\n",
    "print('stop at: {}'.format(datetime.now().time()))\n",
    "print('---------------------------------')\n",
    "\n",
    "print(rand_forest_classifier.best_score_)\n",
    "print(rand_forest_classifier.best_estimator_)"
   ]
  },
  {
   "cell_type": "code",
   "execution_count": 11,
   "metadata": {},
   "outputs": [],
   "source": [
    "y_pred = rand_forest_classifier.predict(X_test)"
   ]
  },
  {
   "cell_type": "code",
   "execution_count": 12,
   "metadata": {},
   "outputs": [
    {
     "name": "stdout",
     "output_type": "stream",
     "text": [
      "[[234  42   1]\n",
      " [ 38 199  37]\n",
      " [  1  33 235]]\n",
      "              precision    recall  f1-score   support\n",
      "\n",
      "         1.0       0.86      0.84      0.85       277\n",
      "         2.0       0.73      0.73      0.73       274\n",
      "         3.0       0.86      0.87      0.87       269\n",
      "\n",
      "    accuracy                           0.81       820\n",
      "   macro avg       0.81      0.81      0.81       820\n",
      "weighted avg       0.81      0.81      0.81       820\n",
      "\n"
     ]
    }
   ],
   "source": [
    "print(confusion_matrix(y_test, y_pred))\n",
    "print(classification_report(y_test, y_pred))"
   ]
  },
  {
   "cell_type": "markdown",
   "metadata": {},
   "source": [
    "# Support Vector Classification"
   ]
  },
  {
   "cell_type": "code",
   "execution_count": 13,
   "metadata": {},
   "outputs": [],
   "source": [
    "svc = SVC()"
   ]
  },
  {
   "cell_type": "code",
   "execution_count": 14,
   "metadata": {},
   "outputs": [
    {
     "name": "stdout",
     "output_type": "stream",
     "text": [
      "Optimizing parameters of support vector classification...\n",
      "start at: 21:04:53.090124\n",
      "stop at: 22:30:45.704002\n",
      "---------------------------------\n",
      "0.7783882783882784\n",
      "SVC(C=1000, cache_size=200, class_weight=None, coef0=0.0,\n",
      "    decision_function_shape='ovr', degree=3, gamma=0.01, kernel='rbf',\n",
      "    max_iter=-1, probability=False, random_state=None, shrinking=True,\n",
      "    tol=0.001, verbose=False)\n"
     ]
    }
   ],
   "source": [
    "print('Optimizing parameters of support vector classification...')\n",
    "print('start at: {}'.format(datetime.now().time()))\n",
    "\n",
    "parameters = {'C': [0.1, 1, 10, 100, 1000],  \n",
    "              'gamma': [1, 0.1, 0.01, 0.001, 0.0001],\n",
    "              'kernel': ['linear', 'rbf', 'poly']}\n",
    "\n",
    "svm_classifier = GridSearchCV(estimator=svc, param_grid=parameters, cv=10, n_jobs=-1)\n",
    "svm_classifier.fit(X_train, y_train)\n",
    "\n",
    "print('stop at: {}'.format(datetime.now().time()))\n",
    "print('---------------------------------')\n",
    "\n",
    "print(svm_classifier.best_score_)\n",
    "print(svm_classifier.best_estimator_)"
   ]
  },
  {
   "cell_type": "code",
   "execution_count": 15,
   "metadata": {},
   "outputs": [],
   "source": [
    "y_pred = svm_classifier.predict(X_test)"
   ]
  },
  {
   "cell_type": "code",
   "execution_count": 16,
   "metadata": {},
   "outputs": [
    {
     "name": "stdout",
     "output_type": "stream",
     "text": [
      "[[228  47   2]\n",
      " [ 50 191  33]\n",
      " [  2  47 220]]\n",
      "              precision    recall  f1-score   support\n",
      "\n",
      "         1.0       0.81      0.82      0.82       277\n",
      "         2.0       0.67      0.70      0.68       274\n",
      "         3.0       0.86      0.82      0.84       269\n",
      "\n",
      "    accuracy                           0.78       820\n",
      "   macro avg       0.78      0.78      0.78       820\n",
      "weighted avg       0.78      0.78      0.78       820\n",
      "\n"
     ]
    }
   ],
   "source": [
    "print(confusion_matrix(y_test, y_pred))\n",
    "print(classification_report(y_test, y_pred))"
   ]
  },
  {
   "cell_type": "markdown",
   "metadata": {},
   "source": [
    "# Extreme Gradient Boosting Classification"
   ]
  },
  {
   "cell_type": "code",
   "execution_count": 17,
   "metadata": {},
   "outputs": [],
   "source": [
    "xgb = XGBClassifier(learning_rate=0.02, n_estimators=600)"
   ]
  },
  {
   "cell_type": "code",
   "execution_count": 18,
   "metadata": {},
   "outputs": [
    {
     "name": "stdout",
     "output_type": "stream",
     "text": [
      "Optimizing parameters of extreme gradient boosting classification...\n",
      "start at: 22:33:43.243834\n",
      "stop at: 01:16:57.313996\n",
      "---------------------------------\n",
      "0.8101343101343101\n",
      "XGBClassifier(base_score=0.5, booster=None, colsample_bylevel=1,\n",
      "              colsample_bynode=1, colsample_bytree=1.0, gamma=0.5, gpu_id=-1,\n",
      "              importance_type='gain', interaction_constraints=None,\n",
      "              learning_rate=0.02, max_delta_step=0, max_depth=5,\n",
      "              min_child_weight=1, missing=nan, monotone_constraints=None,\n",
      "              n_estimators=600, n_jobs=0, num_parallel_tree=1,\n",
      "              objective='multi:softprob', random_state=0, reg_alpha=0,\n",
      "              reg_lambda=1, scale_pos_weight=None, subsample=0.6,\n",
      "              tree_method=None, validate_parameters=False, verbosity=None)\n"
     ]
    }
   ],
   "source": [
    "print('Optimizing parameters of extreme gradient boosting classification...')\n",
    "print('start at: {}'.format(datetime.now().time()))\n",
    "\n",
    "parameters = {'min_child_weight': [1, 5, 10],\n",
    "              'gamma': [0.5, 1, 1.5, 2, 5],\n",
    "              'subsample': [0.6, 0.8, 1.0],\n",
    "              'colsample_bytree': [0.6, 0.8, 1.0],\n",
    "              'max_depth': [3, 4, 5]}\n",
    "\n",
    "xgb_classifier = GridSearchCV(estimator=xgb, param_grid=parameters, cv=10, n_jobs=4)\n",
    "xgb_classifier.fit(X_train, y_train)\n",
    "\n",
    "print('stop at: {}'.format(datetime.now().time()))\n",
    "print('---------------------------------')\n",
    "\n",
    "print(xgb_classifier.best_score_)\n",
    "print(xgb_classifier.best_estimator_)"
   ]
  },
  {
   "cell_type": "code",
   "execution_count": 74,
   "metadata": {},
   "outputs": [],
   "source": [
    "y_pred = xgb_classifier.predict(X_test)"
   ]
  },
  {
   "cell_type": "code",
   "execution_count": 75,
   "metadata": {},
   "outputs": [
    {
     "name": "stdout",
     "output_type": "stream",
     "text": [
      "[[207  32   3]\n",
      " [ 39 163  23]\n",
      " [  3  35 201]]\n",
      "              precision    recall  f1-score   support\n",
      "\n",
      "         1.0       0.83      0.86      0.84       242\n",
      "         2.0       0.71      0.72      0.72       225\n",
      "         3.0       0.89      0.84      0.86       239\n",
      "\n",
      "    accuracy                           0.81       706\n",
      "   macro avg       0.81      0.81      0.81       706\n",
      "weighted avg       0.81      0.81      0.81       706\n",
      "\n"
     ]
    }
   ],
   "source": [
    "print(confusion_matrix(y_test, y_pred))\n",
    "print(classification_report(y_test, y_pred))"
   ]
  },
  {
   "cell_type": "code",
   "execution_count": null,
   "metadata": {},
   "outputs": [],
   "source": []
  }
 ],
 "metadata": {
  "kernelspec": {
   "display_name": "Python 3",
   "language": "python",
   "name": "python3"
  },
  "language_info": {
   "codemirror_mode": {
    "name": "ipython",
    "version": 3
   },
   "file_extension": ".py",
   "mimetype": "text/x-python",
   "name": "python",
   "nbconvert_exporter": "python",
   "pygments_lexer": "ipython3",
   "version": "3.7.4"
  }
 },
 "nbformat": 4,
 "nbformat_minor": 2
}
